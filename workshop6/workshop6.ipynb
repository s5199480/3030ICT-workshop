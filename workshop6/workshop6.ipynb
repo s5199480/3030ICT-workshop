{
 "cells": [
  {
   "cell_type": "markdown",
   "metadata": {},
   "source": [
    "# Topic Modelling for News"
   ]
  },
  {
   "cell_type": "markdown",
   "metadata": {},
   "source": [
    "![](https://images.unsplash.com/photo-1495020689067-958852a7765e?ixlib=rb-1.2.1&ixid=eyJhcHBfaWQiOjEyMDd9&auto=format&fit=crop&w=1050&q=80)\n",
    "\n",
    "Photo by [Roman Kraft](https://unsplash.com/photos/_Zua2hyvTBk)"
   ]
  },
  {
   "cell_type": "markdown",
   "metadata": {},
   "source": [
    "This exercise is about modelling the main topics of a database of News headlines."
   ]
  },
  {
   "cell_type": "markdown",
   "metadata": {},
   "source": [
    "Begin by importing the needed libraries:"
   ]
  },
  {
   "cell_type": "code",
   "execution_count": 1,
   "metadata": {},
   "outputs": [],
   "source": [
    "# TODO: import needed libraries\n",
    "import nltk\n",
    "import numpy as np\n",
    "import pandas as pd"
   ]
  },
  {
   "cell_type": "markdown",
   "metadata": {},
   "source": [
    "Load the data in the file `random_headlines.csv`"
   ]
  },
  {
   "cell_type": "code",
   "execution_count": 2,
   "metadata": {
    "scrolled": true
   },
   "outputs": [
    {
     "name": "stdout",
     "output_type": "stream",
     "text": [
      "(20000, 2)\n"
     ]
    },
    {
     "data": {
      "text/html": [
       "<div>\n",
       "<style scoped>\n",
       "    .dataframe tbody tr th:only-of-type {\n",
       "        vertical-align: middle;\n",
       "    }\n",
       "\n",
       "    .dataframe tbody tr th {\n",
       "        vertical-align: top;\n",
       "    }\n",
       "\n",
       "    .dataframe thead th {\n",
       "        text-align: right;\n",
       "    }\n",
       "</style>\n",
       "<table border=\"1\" class=\"dataframe\">\n",
       "  <thead>\n",
       "    <tr style=\"text-align: right;\">\n",
       "      <th></th>\n",
       "      <th>publish_date</th>\n",
       "      <th>headline_text</th>\n",
       "    </tr>\n",
       "  </thead>\n",
       "  <tbody>\n",
       "    <tr>\n",
       "      <th>0</th>\n",
       "      <td>20120305</td>\n",
       "      <td>ute driver hurt in intersection crash</td>\n",
       "    </tr>\n",
       "    <tr>\n",
       "      <th>1</th>\n",
       "      <td>20081128</td>\n",
       "      <td>6yo dies in cycling accident</td>\n",
       "    </tr>\n",
       "    <tr>\n",
       "      <th>2</th>\n",
       "      <td>20090325</td>\n",
       "      <td>bumper olive harvest expected</td>\n",
       "    </tr>\n",
       "    <tr>\n",
       "      <th>3</th>\n",
       "      <td>20100201</td>\n",
       "      <td>replica replaces northernmost sign</td>\n",
       "    </tr>\n",
       "    <tr>\n",
       "      <th>4</th>\n",
       "      <td>20080225</td>\n",
       "      <td>woods targets perfect season</td>\n",
       "    </tr>\n",
       "  </tbody>\n",
       "</table>\n",
       "</div>"
      ],
      "text/plain": [
       "   publish_date                          headline_text\n",
       "0      20120305  ute driver hurt in intersection crash\n",
       "1      20081128           6yo dies in cycling accident\n",
       "2      20090325          bumper olive harvest expected\n",
       "3      20100201     replica replaces northernmost sign\n",
       "4      20080225           woods targets perfect season"
      ]
     },
     "execution_count": 2,
     "metadata": {},
     "output_type": "execute_result"
    }
   ],
   "source": [
    "# TODO: load the dataset\n",
    "df = pd.read_csv(\"random_headlines.csv\")\n",
    "print(df.shape)\n",
    "df.head()"
   ]
  },
  {
   "cell_type": "markdown",
   "metadata": {},
   "source": [
    "This is always a good idea to perform some EDA (exploratory data analytics) on a dataset..."
   ]
  },
  {
   "cell_type": "code",
   "execution_count": 3,
   "metadata": {},
   "outputs": [
    {
     "name": "stdout",
     "output_type": "stream",
     "text": [
      "<class 'pandas.core.frame.DataFrame'>\n",
      "RangeIndex: 20000 entries, 0 to 19999\n",
      "Data columns (total 2 columns):\n",
      " #   Column         Non-Null Count  Dtype \n",
      "---  ------         --------------  ----- \n",
      " 0   publish_date   20000 non-null  int64 \n",
      " 1   headline_text  20000 non-null  object\n",
      "dtypes: int64(1), object(1)\n",
      "memory usage: 312.6+ KB\n"
     ]
    }
   ],
   "source": [
    "# TODO: Perform a short EDA\n",
    "df.info()"
   ]
  },
  {
   "cell_type": "markdown",
   "metadata": {},
   "source": [
    "Now perform all the needed preprocessing on those headlines: case lowering, tokenization, punctuation removal, stopwords removal, stemming/lemmatization."
   ]
  },
  {
   "cell_type": "code",
   "execution_count": 8,
   "metadata": {
    "scrolled": true
   },
   "outputs": [
    {
     "data": {
      "text/plain": [
       "0    [ute, driver, hurt, intersect, crash]\n",
       "1                       [die, cycl, accid]\n",
       "2          [bumper, oliv, harvest, expect]\n",
       "3    [replica, replac, northernmost, sign]\n",
       "4          [wood, target, perfect, season]\n",
       "Name: stemmed, dtype: object"
      ]
     },
     "execution_count": 8,
     "metadata": {},
     "output_type": "execute_result"
    }
   ],
   "source": [
    "# TODO: Preprocess the input data\n",
    "#first step- tokenise data\n",
    "df['tokens'] = df['headline_text'].apply(lambda row: nltk.word_tokenize(row))\n",
    "\n",
    "#remove punctuation\n",
    "\n",
    "df['alphanumeric'] = df['tokens'].apply(lambda row: \n",
    "    [word for word in row if word.isalpha()\n",
    "])\n",
    "\n",
    "#remove stopwords\n",
    "stop = nltk.corpus.stopwords.words('english')\n",
    "df['stop'] = df['alphanumeric'].apply(lambda row: \n",
    "    [word for word in row if word not in stop\n",
    "])\n",
    "\n",
    "#perform stemming\n",
    "stemmer = nltk.PorterStemmer()\n",
    "df['stemmed'] = df['stop'].apply(lambda row:\n",
    "    [stemmer.stem(word) for word in row\n",
    "])\n",
    "\n",
    "#print stemmed head\n",
    "df['stemmed'].head()"
   ]
  },
  {
   "cell_type": "markdown",
   "metadata": {},
   "source": [
    "Now use Gensim to compute a BOW"
   ]
  },
  {
   "cell_type": "code",
   "execution_count": 9,
   "metadata": {},
   "outputs": [
    {
     "name": "stdout",
     "output_type": "stream",
     "text": [
      "(20000,)\n"
     ]
    },
    {
     "name": "stderr",
     "output_type": "stream",
     "text": [
      "C:\\Users\\jessb\\anaconda3\\lib\\site-packages\\numpy\\core\\fromnumeric.py:2009: VisibleDeprecationWarning: Creating an ndarray from ragged nested sequences (which is a list-or-tuple of lists-or-tuples-or ndarrays with different lengths or shapes) is deprecated. If you meant to do this, you must specify 'dtype=object' when creating the ndarray.\n",
      "  result = asarray(a).shape\n"
     ]
    },
    {
     "data": {
      "text/plain": [
       "[[(0, 1), (1, 1), (2, 1), (3, 1), (4, 1)], [(5, 1), (6, 1), (7, 1)]]"
      ]
     },
     "execution_count": 9,
     "metadata": {},
     "output_type": "execute_result"
    }
   ],
   "source": [
    "# TODO: Compute the BOW using Gensim\n",
    "from gensim.corpora import Dictionary\n",
    "\n",
    "#build dictionary from stemmed column\n",
    "dictionary = Dictionary(df['stemmed'])\n",
    "\n",
    "#convert dictionary to BOW\n",
    "corpus = [dictionary.doc2bow(line) for line in df['stemmed']]\n",
    "\n",
    "#print shape of corpus\n",
    "print(np.shape(corpus))\n",
    "corpus[0:2]"
   ]
  },
  {
   "cell_type": "markdown",
   "metadata": {},
   "source": [
    "Compute the TF-IDF using Gensim"
   ]
  },
  {
   "cell_type": "code",
   "execution_count": 12,
   "metadata": {},
   "outputs": [
    {
     "name": "stdout",
     "output_type": "stream",
     "text": [
      "(20000,)\n"
     ]
    }
   ],
   "source": [
    "# TODO: Compute TF-IDF\n",
    "from gensim.models import TfidfModel\n",
    "\n",
    "tfidf_model = TfidfModel(corpus)\n",
    "tf_idf = tfidf_model[corpus]\n",
    "print(np.shape(tf_idf))"
   ]
  },
  {
   "cell_type": "markdown",
   "metadata": {},
   "source": [
    "Finally compute the **LSA** (also called LSI) using Gensim, for a given number of Topics that you choose yourself"
   ]
  },
  {
   "cell_type": "code",
   "execution_count": 13,
   "metadata": {},
   "outputs": [],
   "source": [
    "# TODO: Compute LSA\n",
    "from gensim.models import LsiModel\n",
    "\n",
    "lsi = LsiModel(corpus = corpus, num_topics = 4, id2word = dictionary)"
   ]
  },
  {
   "cell_type": "markdown",
   "metadata": {},
   "source": [
    "For each of the topic, show the most significant words."
   ]
  },
  {
   "cell_type": "code",
   "execution_count": 14,
   "metadata": {},
   "outputs": [
    {
     "data": {
      "text/plain": [
       "[(0, '-0.752*\"polic\" + -0.405*\"man\" + -0.209*\"charg\"'),\n",
       " (1, '-0.669*\"man\" + 0.575*\"polic\" + -0.327*\"charg\"'),\n",
       " (2, '0.653*\"new\" + 0.296*\"plan\" + 0.242*\"say\"'),\n",
       " (3, '-0.704*\"new\" + 0.343*\"say\" + 0.336*\"plan\"')]"
      ]
     },
     "execution_count": 14,
     "metadata": {},
     "output_type": "execute_result"
    }
   ],
   "source": [
    "# TODO: Print the 3 or 4 most significant words of each topic\n",
    "lsi.print_topics(num_words = 3)"
   ]
  },
  {
   "cell_type": "markdown",
   "metadata": {},
   "source": [
    "What do you think about those results?"
   ]
  },
  {
   "cell_type": "markdown",
   "metadata": {},
   "source": [
    "These are the most common topics found in the news articles"
   ]
  },
  {
   "cell_type": "markdown",
   "metadata": {},
   "source": [
    "Now let's try to use LDA instead of LSA using Gensim"
   ]
  },
  {
   "cell_type": "code",
   "execution_count": 19,
   "metadata": {},
   "outputs": [],
   "source": [
    "# TODO: Compute LDA\n",
    "from gensim.models import LdaModel\n",
    "\n",
    "lda = LdaModel(corpus = corpus, num_topics = 4, id2word = dictionary, \n",
    "    random_state = 0, chunksize = 512, passes = 5\n",
    ")"
   ]
  },
  {
   "cell_type": "code",
   "execution_count": 20,
   "metadata": {
    "scrolled": true
   },
   "outputs": [
    {
     "data": {
      "text/plain": [
       "[(0, '0.016*\"report\" + 0.009*\"back\" + 0.009*\"may\"'),\n",
       " (1, '0.012*\"mine\" + 0.011*\"polic\" + 0.009*\"elect\"'),\n",
       " (2, '0.013*\"question\" + 0.010*\"council\" + 0.010*\"fund\"'),\n",
       " (3, '0.012*\"sydney\" + 0.012*\"charg\" + 0.011*\"australian\"')]"
      ]
     },
     "execution_count": 20,
     "metadata": {},
     "output_type": "execute_result"
    }
   ],
   "source": [
    "# TODO: print the most frequent words of each topic\n",
    "lda.print_topics(num_words = 3)"
   ]
  },
  {
   "cell_type": "markdown",
   "metadata": {},
   "source": [
    "Now, how does it work with LDA?"
   ]
  },
  {
   "cell_type": "markdown",
   "metadata": {},
   "source": [
    "LDA is more interpretable compared to the LSI results based on the frequent words computed for each topic"
   ]
  },
  {
   "cell_type": "markdown",
   "metadata": {},
   "source": [
    "Let's make some visualization of the LDA results using pyLDAvis."
   ]
  },
  {
   "cell_type": "code",
   "execution_count": 36,
   "metadata": {},
   "outputs": [
    {
     "data": {
      "text/html": [
       "\n",
       "<link rel=\"stylesheet\" type=\"text/css\" href=\"https://cdn.jsdelivr.net/gh/bmabey/pyLDAvis@3.4.0/pyLDAvis/js/ldavis.v1.0.0.css\">\n",
       "\n",
       "\n",
       "<div id=\"ldavis_el1395620693577619688255771703\" style=\"background-color:white;\"></div>\n",
       "<script type=\"text/javascript\">\n",
       "\n",
       "var ldavis_el1395620693577619688255771703_data = {\"mdsDat\": {\"x\": [-0.2284945193217148, -0.14962673296859094, 0.21956889574526514, 0.15855235654504066], \"y\": [-0.02862286892380212, -0.010718595573706495, -0.23570066753340413, 0.27504213203091277], \"topics\": [1, 2, 3, 4], \"cluster\": [1, 1, 1, 1], \"Freq\": [26.892487845862277, 26.67267291842376, 23.916829833201643, 22.518009402512323]}, \"tinfo\": {\"Term\": [\"report\", \"question\", \"mine\", \"sydney\", \"charg\", \"council\", \"australian\", \"fund\", \"interview\", \"elect\", \"back\", \"win\", \"may\", \"labor\", \"trial\", \"union\", \"road\", \"cut\", \"call\", \"govern\", \"final\", \"lead\", \"stori\", \"begin\", \"want\", \"urg\", \"warn\", \"govt\", \"forc\", \"attack\", \"question\", \"council\", \"fund\", \"cut\", \"govern\", \"urg\", \"forc\", \"set\", \"want\", \"aussi\", \"support\", \"concern\", \"farmer\", \"approv\", \"group\", \"doctor\", \"claim\", \"hospit\", \"school\", \"mp\", \"citi\", \"coast\", \"team\", \"figur\", \"ban\", \"reduc\", \"titl\", \"men\", \"job\", \"seek\", \"disput\", \"draw\", \"next\", \"drug\", \"govt\", \"plan\", \"new\", \"say\", \"wa\", \"fear\", \"polic\", \"chang\", \"mine\", \"elect\", \"win\", \"road\", \"final\", \"warn\", \"commun\", \"club\", \"run\", \"rise\", \"station\", \"student\", \"drought\", \"perth\", \"woman\", \"rate\", \"found\", \"search\", \"debat\", \"stage\", \"fall\", \"turnbul\", \"held\", \"record\", \"minist\", \"world\", \"injuri\", \"telstra\", \"countri\", \"review\", \"qld\", \"econom\", \"friday\", \"eye\", \"debt\", \"polic\", \"call\", \"water\", \"help\", \"health\", \"take\", \"trade\", \"futur\", \"miss\", \"hit\", \"sydney\", \"charg\", \"australian\", \"interview\", \"trial\", \"stori\", \"lead\", \"murder\", \"market\", \"open\", \"shoot\", \"accus\", \"leav\", \"day\", \"test\", \"two\", \"busi\", \"success\", \"olymp\", \"bu\", \"risk\", \"point\", \"board\", \"arm\", \"pull\", \"full\", \"second\", \"appoint\", \"hope\", \"fourth\", \"latest\", \"sieg\", \"line\", \"sold\", \"man\", \"melbourn\", \"polic\", \"court\", \"us\", \"report\", \"back\", \"may\", \"labor\", \"union\", \"begin\", \"blaze\", \"car\", \"die\", \"drum\", \"work\", \"news\", \"pole\", \"dead\", \"judg\", \"abc\", \"great\", \"rural\", \"collaps\", \"resid\", \"state\", \"train\", \"garrett\", \"iraq\", \"pakistan\", \"big\", \"fail\", \"deni\", \"former\", \"bid\", \"italian\", \"singapor\", \"lock\", \"sunday\", \"paint\", \"attack\", \"pay\", \"crash\", \"call\", \"kill\", \"man\", \"us\"], \"Freq\": [373.0, 354.0, 336.0, 298.0, 284.0, 284.0, 259.0, 264.0, 229.0, 235.0, 203.0, 229.0, 202.0, 190.0, 195.0, 183.0, 206.0, 206.0, 366.0, 199.0, 195.0, 176.0, 175.0, 167.0, 188.0, 183.0, 179.0, 343.0, 180.0, 230.0, 353.652693819588, 283.84458546394575, 264.1611006719035, 206.0402918636836, 198.9610203080624, 182.68785471749342, 179.8328946780421, 172.31743743038098, 187.93441662817983, 167.18523117475178, 162.57283503075212, 147.48476197916096, 142.85305603294233, 142.52418556241608, 135.90066645118304, 138.26722853231513, 132.42971986669488, 127.63718883453018, 120.15960603593193, 119.46485142874978, 124.8235463758747, 115.42640478862893, 124.99710334072896, 122.94813161944565, 112.59245042225012, 119.99793301455907, 134.99582941826273, 120.29550695933324, 107.57055285714122, 105.92153043590939, 112.25921179952529, 109.13928478671144, 109.4575689119094, 166.94017783641215, 232.0760206679214, 208.70771685124527, 221.33784350820898, 162.19886981252887, 147.61738678841337, 133.92501544930332, 172.32140730987908, 127.49357940724903, 335.96283598914886, 234.92577417149877, 228.46334239788084, 206.06726414780948, 194.36616414211647, 179.2069681619703, 147.2121101117647, 150.33951290820374, 155.47898083237035, 140.19653946004814, 137.639477907241, 146.02133688456672, 152.74261966073473, 145.53114592182683, 127.95796110013826, 126.62662543279409, 120.22224845722764, 116.98988574604977, 111.62671061499289, 117.16570666429264, 109.05423064567074, 115.30320017676047, 113.86178211249643, 102.20378358933397, 102.14217363573893, 100.66161700426349, 116.17586980901608, 111.87515100077208, 95.22337584701667, 95.70224510473707, 167.03168176472983, 115.55501732318136, 111.96669307039497, 113.38271534613472, 104.52241398460367, 291.3603132696476, 185.10452522144806, 129.43210188639443, 137.6427654704318, 123.08865951229468, 125.75612202434637, 121.02108808511309, 121.71148909767412, 118.86531312147137, 118.59148968966089, 298.1834675353166, 283.68625027435723, 258.8227228568622, 229.08740832104442, 194.47706170339345, 175.09115837681554, 175.7086840736045, 163.8299581248388, 152.250111596874, 146.68210841663293, 141.0182874054095, 136.22545344855686, 133.53500164273967, 130.02925275491134, 122.42407519389671, 121.83809648391224, 114.16715128217086, 110.27286371767251, 110.4225890762693, 104.8399607083753, 113.74628865560231, 103.38374905525838, 104.27134940872867, 102.26941258945638, 97.04851767148728, 100.92592914054549, 93.29138694494648, 97.17389437782752, 95.89246514309087, 99.41776379347714, 101.51220492465417, 99.21501070371065, 99.89604170751127, 98.86680555236471, 229.18272341120118, 125.22605548149528, 217.11331015248265, 145.11111189229626, 113.42442026795949, 373.1180304266504, 202.4983189919464, 201.59430969585978, 189.42479159457207, 182.63167283096183, 166.6330297935024, 154.34757637812842, 134.5640439070975, 120.67898006878043, 121.41263104308268, 114.27206134003121, 109.07857451468635, 114.70844586410188, 106.28528325418863, 113.38572688119464, 101.1606239448059, 105.97622640734959, 93.40441481013812, 119.83639701779289, 90.94217981350705, 91.33403837812673, 89.9747379685191, 94.8460489792669, 79.61767061579354, 79.38640241664474, 75.23757054910718, 74.04318508474799, 72.52513386972409, 71.78432367193437, 72.00512466679572, 104.86871443551185, 103.57523477557821, 99.89386631513953, 96.7095555875909, 92.92034157424187, 187.2120267597356, 135.08915762023597, 156.6345152865127, 181.23584478295948, 143.09514888887134, 112.85539570240418, 100.29164159338524], \"Total\": [373.0, 354.0, 336.0, 298.0, 284.0, 284.0, 259.0, 264.0, 229.0, 235.0, 203.0, 229.0, 202.0, 190.0, 195.0, 183.0, 206.0, 206.0, 366.0, 199.0, 195.0, 176.0, 175.0, 167.0, 188.0, 183.0, 179.0, 343.0, 180.0, 230.0, 354.43924935683975, 284.5460028316123, 264.9029036222279, 206.76097047280146, 199.67924093074217, 183.38771389114325, 180.55724529186517, 173.03155274915258, 188.72725798091665, 167.9154264988981, 163.30081407616325, 148.18803439171617, 143.55405562556686, 143.25111387341676, 136.60160440667326, 138.9851833060271, 133.13782694288625, 128.34636303689174, 120.86654876698358, 120.17279276965897, 125.57426902308762, 116.12236256008734, 125.75088410843296, 123.71305745166619, 113.29925992399167, 120.75239692098472, 135.8516326925761, 121.06683461737731, 108.26885626482773, 106.63343052142419, 113.0351020885355, 109.93170101299765, 110.34452312214286, 205.23994381828285, 343.35428806410863, 322.69966989083684, 442.1768636006342, 329.5313048903527, 254.58308720343547, 184.5593910933876, 698.3961605220586, 169.19248990339804, 336.7108956875628, 235.6477586954015, 229.1807780160216, 206.7859320925438, 195.08453896213507, 179.9246461230229, 147.92202354072697, 151.0808883980042, 156.25628938703767, 140.8999680570979, 138.36029854150001, 146.79126538772837, 153.55115818814758, 146.3053136447757, 128.67328341652322, 127.35155852480959, 120.93539016520414, 117.6985839696535, 112.33223292855945, 117.90926538086477, 109.76590522358248, 116.0655116075484, 114.631829036488, 102.91279485469467, 102.85090239798421, 101.36895400846537, 117.01067993907346, 112.6967737965109, 95.92412961501148, 96.41506510810892, 168.44782782504015, 116.47392730148943, 112.88026305076386, 114.38049840619004, 105.56692034247209, 698.3961605220586, 366.81653389579367, 180.5116756995314, 224.3513221604554, 164.40377303586666, 195.0485573412258, 161.48671762837233, 176.48075962880566, 166.2000615729898, 182.1000552590659, 298.90969403792457, 284.4034951592479, 259.5945156963374, 229.7962697731904, 195.21232201897757, 175.82446431542132, 176.4492085525669, 164.5443296388893, 152.97451184892492, 147.40966394350122, 141.74724712942395, 136.95216260775126, 134.26063241180435, 130.74691891338279, 123.14531281602449, 122.56892783454431, 114.89876150371268, 111.00338680645304, 111.16880991880268, 105.57355626029631, 114.56529810759834, 104.14230702467421, 105.03762095344644, 103.02376618333045, 97.76734657161404, 101.68637310897732, 94.00220337574447, 97.91683073682822, 96.6260841488102, 100.18361322464128, 102.31593554189635, 99.99082170744478, 100.72397713497972, 99.8348994410426, 385.3808560567857, 150.84062165893437, 698.3961605220586, 257.27011584928204, 214.19723835960033, 373.83839825303704, 203.20290796901932, 202.29757965417127, 190.18046045197383, 183.37060610108801, 167.3462354579995, 155.08726992988696, 135.25934384096203, 121.3678693779346, 122.11318606004882, 114.97147409202474, 109.76537698015419, 115.43087850875818, 106.98280425548782, 114.13461597864553, 101.84519779034417, 106.695152441304, 94.09452798933815, 120.72720637251345, 91.64081388718087, 92.04050894212862, 90.68169914445556, 95.62319498645356, 80.30868431067769, 80.09515693635204, 75.9443132309259, 74.74023112889004, 73.22569865013362, 72.48410100254044, 72.71368079781686, 105.95837157787517, 104.65096624058903, 101.0414864366192, 97.95877799371151, 94.84030668531763, 230.0389318770593, 162.44304215797982, 201.38652101243633, 366.81653389579367, 228.64447967103038, 385.3808560567857, 214.19723835960033], \"Category\": [\"Default\", \"Default\", \"Default\", \"Default\", \"Default\", \"Default\", \"Default\", \"Default\", \"Default\", \"Default\", \"Default\", \"Default\", \"Default\", \"Default\", \"Default\", \"Default\", \"Default\", \"Default\", \"Default\", \"Default\", \"Default\", \"Default\", \"Default\", \"Default\", \"Default\", \"Default\", \"Default\", \"Default\", \"Default\", \"Default\", \"Topic1\", \"Topic1\", \"Topic1\", \"Topic1\", \"Topic1\", \"Topic1\", \"Topic1\", \"Topic1\", \"Topic1\", \"Topic1\", \"Topic1\", \"Topic1\", \"Topic1\", \"Topic1\", \"Topic1\", \"Topic1\", \"Topic1\", \"Topic1\", \"Topic1\", \"Topic1\", \"Topic1\", \"Topic1\", \"Topic1\", \"Topic1\", \"Topic1\", \"Topic1\", \"Topic1\", \"Topic1\", \"Topic1\", \"Topic1\", \"Topic1\", \"Topic1\", \"Topic1\", \"Topic1\", \"Topic1\", \"Topic1\", \"Topic1\", \"Topic1\", \"Topic1\", \"Topic1\", \"Topic1\", \"Topic1\", \"Topic2\", \"Topic2\", \"Topic2\", \"Topic2\", \"Topic2\", \"Topic2\", \"Topic2\", \"Topic2\", \"Topic2\", \"Topic2\", \"Topic2\", \"Topic2\", \"Topic2\", \"Topic2\", \"Topic2\", \"Topic2\", \"Topic2\", \"Topic2\", \"Topic2\", \"Topic2\", \"Topic2\", \"Topic2\", \"Topic2\", \"Topic2\", \"Topic2\", \"Topic2\", \"Topic2\", \"Topic2\", \"Topic2\", \"Topic2\", \"Topic2\", \"Topic2\", \"Topic2\", \"Topic2\", \"Topic2\", \"Topic2\", \"Topic2\", \"Topic2\", \"Topic2\", \"Topic2\", \"Topic2\", \"Topic2\", \"Topic2\", \"Topic2\", \"Topic2\", \"Topic3\", \"Topic3\", \"Topic3\", \"Topic3\", \"Topic3\", \"Topic3\", \"Topic3\", \"Topic3\", \"Topic3\", \"Topic3\", \"Topic3\", \"Topic3\", \"Topic3\", \"Topic3\", \"Topic3\", \"Topic3\", \"Topic3\", \"Topic3\", \"Topic3\", \"Topic3\", \"Topic3\", \"Topic3\", \"Topic3\", \"Topic3\", \"Topic3\", \"Topic3\", \"Topic3\", \"Topic3\", \"Topic3\", \"Topic3\", \"Topic3\", \"Topic3\", \"Topic3\", \"Topic3\", \"Topic3\", \"Topic3\", \"Topic3\", \"Topic3\", \"Topic3\", \"Topic4\", \"Topic4\", \"Topic4\", \"Topic4\", \"Topic4\", \"Topic4\", \"Topic4\", \"Topic4\", \"Topic4\", \"Topic4\", \"Topic4\", \"Topic4\", \"Topic4\", \"Topic4\", \"Topic4\", \"Topic4\", \"Topic4\", \"Topic4\", \"Topic4\", \"Topic4\", \"Topic4\", \"Topic4\", \"Topic4\", \"Topic4\", \"Topic4\", \"Topic4\", \"Topic4\", \"Topic4\", \"Topic4\", \"Topic4\", \"Topic4\", \"Topic4\", \"Topic4\", \"Topic4\", \"Topic4\", \"Topic4\", \"Topic4\", \"Topic4\", \"Topic4\", \"Topic4\", \"Topic4\", \"Topic4\"], \"logprob\": [30.0, 29.0, 28.0, 27.0, 26.0, 25.0, 24.0, 23.0, 22.0, 21.0, 20.0, 19.0, 18.0, 17.0, 16.0, 15.0, 14.0, 13.0, 12.0, 11.0, 10.0, 9.0, 8.0, 7.0, 6.0, 5.0, 4.0, 3.0, 2.0, 1.0, -4.3569, -4.5768, -4.6486, -4.8971, -4.9321, -5.0174, -5.0332, -5.0759, -4.9891, -5.1061, -5.1341, -5.2315, -5.2634, -5.2657, -5.3133, -5.296, -5.3391, -5.376, -5.4364, -5.4422, -5.3983, -5.4766, -5.3969, -5.4134, -5.5014, -5.4377, -5.32, -5.4353, -5.5471, -5.5625, -5.5044, -5.5326, -5.5297, -5.1076, -4.7781, -4.8843, -4.8255, -5.1364, -5.2306, -5.3279, -5.0758, -5.3771, -4.4, -4.7577, -4.7856, -4.8888, -4.9473, -5.0285, -5.2251, -5.2041, -5.1705, -5.2739, -5.2924, -5.2332, -5.1882, -5.2366, -5.3653, -5.3758, -5.4277, -5.4549, -5.5018, -5.4534, -5.5251, -5.4694, -5.482, -5.59, -5.5906, -5.6052, -5.4619, -5.4996, -5.6608, -5.6558, -5.0988, -5.4672, -5.4988, -5.4862, -5.5676, -4.5424, -4.9961, -5.3538, -5.2923, -5.4041, -5.3826, -5.421, -5.4153, -5.439, -5.4413, -4.4102, -4.4601, -4.5518, -4.6738, -4.8376, -4.9426, -4.9391, -5.0091, -5.0824, -5.1197, -5.159, -5.1936, -5.2136, -5.2402, -5.3004, -5.3052, -5.3703, -5.405, -5.4036, -5.4555, -5.374, -5.4695, -5.4609, -5.4803, -5.5327, -5.4936, -5.5722, -5.5314, -5.5447, -5.5086, -5.4878, -5.5106, -5.5038, -5.5142, -4.6734, -5.2778, -4.7275, -5.1304, -5.3768, -4.1258, -4.7369, -4.7414, -4.8037, -4.8402, -4.9319, -5.0085, -5.1456, -5.2545, -5.2485, -5.3091, -5.3556, -5.3053, -5.3815, -5.3169, -5.431, -5.3845, -5.5107, -5.2615, -5.5374, -5.5331, -5.5481, -5.4954, -5.6704, -5.6733, -5.727, -5.743, -5.7637, -5.774, -5.7709, -5.395, -5.4074, -5.4436, -5.476, -5.5159, -4.8154, -5.1417, -4.9938, -4.8479, -5.0842, -5.3216, -5.4396], \"loglift\": [30.0, 29.0, 28.0, 27.0, 26.0, 25.0, 24.0, 23.0, 22.0, 21.0, 20.0, 19.0, 18.0, 17.0, 16.0, 15.0, 14.0, 13.0, 12.0, 11.0, 10.0, 9.0, 8.0, 7.0, 6.0, 5.0, 4.0, 3.0, 2.0, 1.0, 1.3111, 1.3109, 1.3105, 1.3098, 1.3097, 1.3095, 1.3093, 1.3092, 1.3091, 1.309, 1.3089, 1.3086, 1.3084, 1.3082, 1.3082, 1.3081, 1.308, 1.3078, 1.3075, 1.3074, 1.3073, 1.3073, 1.3073, 1.3071, 1.3071, 1.3071, 1.307, 1.3069, 1.3069, 1.3066, 1.3064, 1.3061, 1.3053, 1.1068, 0.9216, 0.8775, 0.6213, 0.6045, 0.7683, 0.9926, -0.0861, 1.0304, 1.3193, 1.3185, 1.3184, 1.318, 1.3178, 1.3175, 1.3167, 1.3166, 1.3165, 1.3165, 1.3163, 1.3163, 1.3163, 1.3162, 1.316, 1.3158, 1.3156, 1.3155, 1.3152, 1.3152, 1.315, 1.3149, 1.3148, 1.3146, 1.3146, 1.3145, 1.3144, 1.3142, 1.3142, 1.3141, 1.3131, 1.3136, 1.3134, 1.3128, 1.3116, 0.4473, 0.6376, 0.9889, 0.833, 1.0321, 0.8826, 1.0331, 0.95, 0.9863, 0.8927, 1.4282, 1.4281, 1.4276, 1.4275, 1.4268, 1.4264, 1.4264, 1.4262, 1.4258, 1.4256, 1.4254, 1.4253, 1.4252, 1.4251, 1.4247, 1.4246, 1.4242, 1.424, 1.4239, 1.4236, 1.4234, 1.4233, 1.4233, 1.4232, 1.4232, 1.4231, 1.423, 1.423, 1.423, 1.4229, 1.4227, 1.4228, 1.4223, 1.4208, 0.9109, 1.2445, 0.2622, 0.858, 0.7948, 1.4889, 1.4874, 1.4874, 1.4869, 1.4868, 1.4866, 1.4861, 1.4857, 1.4852, 1.4851, 1.4848, 1.4846, 1.4846, 1.4843, 1.4843, 1.4841, 1.4841, 1.4835, 1.4834, 1.4832, 1.4831, 1.483, 1.4827, 1.4822, 1.482, 1.4815, 1.4815, 1.4812, 1.4812, 1.4811, 1.4805, 1.4805, 1.4794, 1.478, 1.4704, 1.2848, 1.3065, 1.2395, 0.7858, 1.0222, 0.2627, 0.732]}, \"token.table\": {\"Topic\": [4, 3, 3, 1, 3, 3, 4, 1, 3, 4, 1, 4, 4, 4, 4, 3, 3, 3, 2, 4, 4, 1, 2, 3, 1, 1, 2, 1, 4, 2, 1, 1, 2, 1, 3, 2, 4, 1, 3, 4, 2, 2, 4, 4, 1, 1, 1, 2, 1, 2, 4, 2, 2, 2, 4, 2, 1, 1, 4, 1, 2, 1, 4, 2, 3, 2, 3, 1, 1, 2, 4, 1, 1, 2, 4, 1, 2, 3, 2, 1, 2, 3, 2, 4, 3, 1, 2, 3, 4, 4, 1, 4, 3, 4, 4, 3, 3, 3, 3, 4, 2, 3, 4, 3, 4, 2, 3, 1, 2, 2, 2, 3, 1, 3, 1, 2, 3, 4, 4, 1, 3, 3, 1, 2, 3, 4, 4, 2, 4, 2, 1, 2, 3, 4, 1, 2, 3, 4, 3, 2, 4, 1, 2, 2, 1, 4, 4, 2, 2, 3, 2, 2, 4, 1, 2, 3, 4, 1, 2, 3, 1, 1, 3, 3, 3, 4, 3, 2, 4, 2, 3, 2, 3, 2, 4, 1, 3, 2, 3, 1, 2, 3, 1, 1, 2, 4, 3, 2, 3, 4, 1, 3, 4, 1, 2, 1, 2, 1, 2, 2, 2, 4, 2], \"Freq\": [0.9917011522518315, 0.9930474803053795, 0.9906366379515245, 0.9982470372018283, 0.9900628153943755, 0.18257779088648457, 0.8129058784707766, 0.9945482882783011, 0.9977098295210796, 0.9940802620344256, 0.9973586771511797, 0.9979310233238775, 0.9901850547244159, 0.9875657150515733, 0.992989302536704, 0.9901214351198385, 0.9945672355785554, 0.9921777964187748, 0.5043393165384289, 0.4934346826673277, 0.9980826179279195, 0.7506243336953773, 0.24232754079929503, 0.9985812580853763, 0.9954268575277787, 0.9914537666040294, 0.9928456311750251, 0.990334656173512, 0.9939764499290277, 0.9937668271521913, 0.9919829263098547, 0.9980811439058048, 0.9903660359627922, 0.43534010792615174, 0.5636099611543929, 0.2184853275124746, 0.7795953731695117, 0.9963195642240344, 0.9942872924303662, 0.9908134371469571, 0.9970424078655078, 0.9946297538979736, 0.9969177672006655, 0.9969689722673711, 0.990842649146946, 0.9929115947283542, 0.9915247284958549, 0.9964105891831031, 0.8136817662933095, 0.1851491444260225, 0.9908839815259475, 0.9959310438613211, 0.9972511569853766, 0.987930648795675, 0.9900959480896773, 0.9930223759188028, 0.9961404390621188, 0.7260535440984176, 0.2709155015292603, 0.9942361989400773, 0.9944406718856097, 0.9969137472663343, 0.9933212801725516, 0.9922653727422027, 0.9881855606266938, 0.9922017983749029, 0.9932500974516838, 0.9965915676654284, 0.3059823638201633, 0.6912934886307394, 0.9934828052279383, 0.9965983397794578, 0.6756869160075339, 0.32328123998636327, 0.9934846858043862, 0.9955959199067513, 0.7481580120011362, 0.24938600400037872, 0.9944881884743645, 0.37441277007462187, 0.6151066936940216, 0.008914589763681473, 0.653486896699201, 0.34596365119369465, 0.9935205472277446, 0.9973013412402486, 0.9913624983668182, 0.9965348881686533, 0.9961562773275735, 0.9909552066193202, 0.9975167719129673, 0.9900589670459152, 0.3717561872575996, 0.6254251150333735, 0.9937929456624072, 0.9969121570337693, 0.9974541764383541, 0.9980587577525708, 0.9928122661994421, 0.9896924869838243, 0.11157793472144856, 0.5942173732839935, 0.293216433105202, 0.993629580267023, 0.9985290004226448, 0.1657378478360258, 0.8286892391801289, 0.9911880522791484, 0.9978887060185232, 0.9917268358551525, 0.7160045482157597, 0.28279171232051015, 0.990240779608851, 0.9966918967059886, 0.499800008079127, 0.1718769258552654, 0.12212307889716224, 0.20580000332669934, 0.9930271548168366, 0.9878152255852828, 0.9894861704496398, 0.9972209152877641, 0.010544040133885517, 0.010544040133885517, 0.010544040133885517, 0.9805957324513531, 0.9863268020409485, 0.16621210512508033, 0.8310605256254018, 0.9979131745992699, 0.6476610281959716, 0.3532696517432572, 0.9890312875015956, 0.9962672162394962, 0.24627855896491205, 0.4166689573185431, 0.31071190288015066, 0.02577333756609545, 0.9921513000145508, 0.9914048887199427, 0.005936556219879896, 0.9987607203275687, 0.9972394642917456, 0.9911304045723035, 0.9937690932836964, 0.9977573244028571, 0.9930073309042217, 0.9956950181214573, 0.9936127163866126, 0.9950657125941625, 0.9961992961291387, 0.9919600715467785, 0.9883677827741251, 0.4916073149830284, 0.264011335824219, 0.11834990916258091, 0.1274537483289333, 0.9928305327170863, 0.9940646357322904, 0.9893385118672328, 0.9940597379421557, 0.9940383546655907, 0.9947283129333604, 0.9900908734369266, 0.009555573502312762, 0.9937796442405273, 0.9916371985576482, 0.9922884314652652, 0.9886950979075653, 0.9973959398375254, 0.9953108668999425, 0.9946095880729799, 0.9909607550245061, 0.010208375609424152, 0.9902124341141428, 0.9981579144117252, 0.9969566258436264, 0.6459929861443195, 0.3537580638409369, 0.9940287965865474, 0.993817269358846, 0.9906995013465469, 0.9937311559994035, 0.24769839022953935, 0.7492876304443565, 0.9924825058320795, 0.9937897259433258, 0.9908197397074231, 0.9953583029190538, 0.9979789230729613, 0.9978858240668543, 0.5275511526917654, 0.4668594271608544, 0.5813426242322778, 0.41636701465284764, 0.9961465132874967, 0.9948609257100293, 0.2825302008989793, 0.7146352140385946, 0.9948478313659488, 0.9947674964169232, 0.9915503032408964, 0.9963602859270447], \"Term\": [\"abc\", \"accus\", \"appoint\", \"approv\", \"arm\", \"attack\", \"attack\", \"aussi\", \"australian\", \"back\", \"ban\", \"begin\", \"bid\", \"big\", \"blaze\", \"board\", \"bu\", \"busi\", \"call\", \"call\", \"car\", \"chang\", \"chang\", \"charg\", \"citi\", \"claim\", \"club\", \"coast\", \"collaps\", \"commun\", \"concern\", \"council\", \"countri\", \"court\", \"court\", \"crash\", \"crash\", \"cut\", \"day\", \"dead\", \"debat\", \"debt\", \"deni\", \"die\", \"disput\", \"doctor\", \"draw\", \"drought\", \"drug\", \"drug\", \"drum\", \"econom\", \"elect\", \"eye\", \"fail\", \"fall\", \"farmer\", \"fear\", \"fear\", \"figur\", \"final\", \"forc\", \"former\", \"found\", \"fourth\", \"friday\", \"full\", \"fund\", \"futur\", \"futur\", \"garrett\", \"govern\", \"govt\", \"govt\", \"great\", \"group\", \"health\", \"health\", \"held\", \"help\", \"help\", \"help\", \"hit\", \"hit\", \"hope\", \"hospit\", \"injuri\", \"interview\", \"iraq\", \"italian\", \"job\", \"judg\", \"kill\", \"kill\", \"labor\", \"latest\", \"lead\", \"leav\", \"line\", \"lock\", \"man\", \"man\", \"man\", \"market\", \"may\", \"melbourn\", \"melbourn\", \"men\", \"mine\", \"minist\", \"miss\", \"miss\", \"mp\", \"murder\", \"new\", \"new\", \"new\", \"new\", \"news\", \"next\", \"olymp\", \"open\", \"paint\", \"paint\", \"paint\", \"paint\", \"pakistan\", \"pay\", \"pay\", \"perth\", \"plan\", \"plan\", \"point\", \"pole\", \"polic\", \"polic\", \"polic\", \"polic\", \"pull\", \"qld\", \"qld\", \"question\", \"rate\", \"record\", \"reduc\", \"report\", \"resid\", \"review\", \"rise\", \"risk\", \"road\", \"run\", \"rural\", \"say\", \"say\", \"say\", \"say\", \"school\", \"search\", \"second\", \"seek\", \"set\", \"shoot\", \"sieg\", \"singapor\", \"singapor\", \"sold\", \"stage\", \"state\", \"station\", \"stori\", \"student\", \"success\", \"sunday\", \"sunday\", \"support\", \"sydney\", \"take\", \"take\", \"team\", \"telstra\", \"test\", \"titl\", \"trade\", \"trade\", \"train\", \"trial\", \"turnbul\", \"two\", \"union\", \"urg\", \"us\", \"us\", \"wa\", \"wa\", \"want\", \"warn\", \"water\", \"water\", \"win\", \"woman\", \"work\", \"world\"]}, \"R\": 30, \"lambda.step\": 0.01, \"plot.opts\": {\"xlab\": \"PC1\", \"ylab\": \"PC2\"}, \"topic.order\": [3, 2, 4, 1]};\n",
       "\n",
       "function LDAvis_load_lib(url, callback){\n",
       "  var s = document.createElement('script');\n",
       "  s.src = url;\n",
       "  s.async = true;\n",
       "  s.onreadystatechange = s.onload = callback;\n",
       "  s.onerror = function(){console.warn(\"failed to load library \" + url);};\n",
       "  document.getElementsByTagName(\"head\")[0].appendChild(s);\n",
       "}\n",
       "\n",
       "if(typeof(LDAvis) !== \"undefined\"){\n",
       "   // already loaded: just create the visualization\n",
       "   !function(LDAvis){\n",
       "       new LDAvis(\"#\" + \"ldavis_el1395620693577619688255771703\", ldavis_el1395620693577619688255771703_data);\n",
       "   }(LDAvis);\n",
       "}else if(typeof define === \"function\" && define.amd){\n",
       "   // require.js is available: use it to load d3/LDAvis\n",
       "   require.config({paths: {d3: \"https://d3js.org/d3.v5\"}});\n",
       "   require([\"d3\"], function(d3){\n",
       "      window.d3 = d3;\n",
       "      LDAvis_load_lib(\"https://cdn.jsdelivr.net/gh/bmabey/pyLDAvis@3.4.0/pyLDAvis/js/ldavis.v3.0.0.js\", function(){\n",
       "        new LDAvis(\"#\" + \"ldavis_el1395620693577619688255771703\", ldavis_el1395620693577619688255771703_data);\n",
       "      });\n",
       "    });\n",
       "}else{\n",
       "    // require.js not available: dynamically load d3 & LDAvis\n",
       "    LDAvis_load_lib(\"https://d3js.org/d3.v5.js\", function(){\n",
       "         LDAvis_load_lib(\"https://cdn.jsdelivr.net/gh/bmabey/pyLDAvis@3.4.0/pyLDAvis/js/ldavis.v3.0.0.js\", function(){\n",
       "                 new LDAvis(\"#\" + \"ldavis_el1395620693577619688255771703\", ldavis_el1395620693577619688255771703_data);\n",
       "            })\n",
       "         });\n",
       "}\n",
       "</script>"
      ],
      "text/plain": [
       "PreparedData(topic_coordinates=              x         y  topics  cluster       Freq\n",
       "topic                                                \n",
       "2     -0.228495 -0.028623       1        1  26.892488\n",
       "1     -0.149627 -0.010719       2        1  26.672673\n",
       "3      0.219569 -0.235701       3        1  23.916830\n",
       "0      0.158552  0.275042       4        1  22.518009, topic_info=          Term        Freq       Total Category  logprob  loglift\n",
       "1133    report  373.000000  373.000000  Default  30.0000  30.0000\n",
       "647   question  354.000000  354.000000  Default  29.0000  29.0000\n",
       "1043      mine  336.000000  336.000000  Default  28.0000  28.0000\n",
       "886     sydney  298.000000  298.000000  Default  27.0000  27.0000\n",
       "86       charg  284.000000  284.000000  Default  26.0000  26.0000\n",
       "...        ...         ...         ...      ...      ...      ...\n",
       "0        crash  156.634515  201.386521   Topic4  -4.9938   1.2395\n",
       "177       call  181.235845  366.816534   Topic4  -4.8479   0.7858\n",
       "688       kill  143.095149  228.644480   Topic4  -5.0842   1.0222\n",
       "139        man  112.855396  385.380856   Topic4  -5.3216   0.2627\n",
       "124         us  100.291642  214.197238   Topic4  -5.4396   0.7320\n",
       "\n",
       "[198 rows x 6 columns], token_table=      Topic      Freq     Term\n",
       "term                          \n",
       "496       4  0.991701      abc\n",
       "101       3  0.993047    accus\n",
       "833       3  0.990637  appoint\n",
       "68        1  0.998247   approv\n",
       "1411      3  0.990063      arm\n",
       "...     ...       ...      ...\n",
       "600       2  0.714635    water\n",
       "500       2  0.994848      win\n",
       "241       2  0.994767    woman\n",
       "279       4  0.991550     work\n",
       "151       2  0.996360    world\n",
       "\n",
       "[203 rows x 3 columns], R=30, lambda_step=0.01, plot_opts={'xlab': 'PC1', 'ylab': 'PC2'}, topic_order=[3, 2, 4, 1])"
      ]
     },
     "execution_count": 36,
     "metadata": {},
     "output_type": "execute_result"
    }
   ],
   "source": [
    "# TODO: show visualization results of the LDA\n",
    "import pyLDAvis\n",
    "from pyLDAvis import gensim\n",
    "\n",
    "pyLDAvis.enable_notebook()\n",
    "\n",
    "vis = pyLDAvis.gensim.prepare(lda, corpus, dictionary)\n",
    "vis"
   ]
  },
  {
   "cell_type": "markdown",
   "metadata": {},
   "source": [
    "Depending on your results, you can try to fine tune the algorithm: number of topics, hyperparameters...\n",
    "And check with others their results."
   ]
  }
 ],
 "metadata": {
  "kernelspec": {
   "display_name": "Python 3 (ipykernel)",
   "language": "python",
   "name": "python3"
  },
  "language_info": {
   "codemirror_mode": {
    "name": "ipython",
    "version": 3
   },
   "file_extension": ".py",
   "mimetype": "text/x-python",
   "name": "python",
   "nbconvert_exporter": "python",
   "pygments_lexer": "ipython3",
   "version": "3.10.9"
  },
  "toc": {
   "base_numbering": 1,
   "nav_menu": {},
   "number_sections": true,
   "sideBar": true,
   "skip_h1_title": false,
   "title_cell": "Table of Contents",
   "title_sidebar": "Contents",
   "toc_cell": false,
   "toc_position": {},
   "toc_section_display": true,
   "toc_window_display": false
  }
 },
 "nbformat": 4,
 "nbformat_minor": 2
}
